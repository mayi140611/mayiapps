{
 "cells": [
  {
   "cell_type": "markdown",
   "metadata": {},
   "source": [
    "# 概述\n",
    "## 定位：\n",
    "\n",
    "时序数据处理专家\n",
    "\n",
    "## 技能\n",
    "针对不同的时序任务总结出自己的方法论和代码实现。\n",
    "\n",
    "## 时序任务有哪些？\n",
    "### 单序列任务 vs 多序列任务：\n",
    "#### 回归： \n",
    "* 根据历史数据预测未来一段时间的数据\n",
    "    * 股价\n",
    "    * 销量\n",
    "* 自然语言生成(作诗等)\n",
    "\n",
    "#### 多序列任务：\n",
    "* 根据一个序列预测另外一个序列。\n",
    "* 命名实体识别、分词、\n",
    "\n",
    "### 传统建模任务 vs 深度学习任务\n",
    "#### 传统建模任务\n",
    "* 输入是大宽表\n",
    "* 常用的模型是传统的模型，主要是GBDT\n",
    "* 任务的关键点是找出/构建有用的特征!  如果有很有效的特征，即使用简单模型，效果也不会差  \n",
    "\n",
    "所以，传统建模任务的关键点在特征工程和特征筛选！\n",
    "#### 深度学习任务\n",
    "由于很难有效的构造特征，一般特征工程交给模型，所以关键在模型！\n",
    "\n",
    "## 时序数据有哪些？\n",
    "* 自然语言 音频 影像\n",
    "* 股票k线\n",
    "* 供应链等"
   ]
  },
  {
   "cell_type": "markdown",
   "metadata": {},
   "source": [
    "## 关于参加竞赛\n",
    "算法工程师参加竞赛，对于提升自己的职业生涯来说，无疑是一个捷径（投机取巧的方法）！\n",
    "\n",
    "竞赛的好处很多：  \n",
    "1. 相对比较公平的，虽然有机器算力的差异，但基本靠实力的；\n",
    "2. 有技巧可寻的；\n",
    "3. 可以靠积累不断增进的；\n",
    "4. 有助于工作的\n",
    "\n",
    "\n",
    "如果竞赛中取得好成绩，好处有很多：\n",
    "1. cv上会好看一些，提升身价；\n",
    "2. 可以进入算法这个圈子，技能提升更快。所谓近朱者赤！\n",
    "3. 很多优秀企业的牛人也都参赛，可以更多的了解这个领域有哪些牛人，说不定还有机会认识这些牛人；\n",
    "\n",
    "\n",
    "如何很快的取得好成绩？\n",
    "1. 先模仿，看和复现各种大赛获奖方案，总结常见的问题和处理思路；\n",
    "2. 在复现的基础上改进\n",
    "尝试使用各种模型\n",
    "3. 不断的磨刀，丰富和精进自己的工具包\n",
    "\n",
    "### 重视评价指标\n",
    "竞赛和平时做项目的最大不同就是有固定的评价指标。\n",
    "\n",
    "要尽可能的从评价指标中获取更多的信息。\n",
    "\n",
    "如 鱼佬、等\n",
    "\n",
    "### 验证集 第一重要的，就是如何构造一个靠谱的线下验证集\n",
    "如果能找出和真实集接近的验证集，也会有很大的帮助！"
   ]
  },
  {
   "cell_type": "markdown",
   "metadata": {},
   "source": [
    "# 整个建模过程pipeline\n",
    "大概过程包含EDA, FE, FS, 数据划分，建模，模型融合。\n",
    "\n",
    "问题是整个流程并不是线性的，或者是瀑布式的，或者存在多条子线，错综复杂，如不同的建模任务的FE是不一样等\n",
    "\n",
    "EDA是共用的，可以单独一个文件\n",
    "\n",
    "FE也可以整一个大而全的，反正不同的模型各取所需即可！！！  \n",
    "FE的输出是一个DataFrame，还有cols_cat, cols_num...\n",
    "\n",
    "数据集划分：这个很关键，属于思路层面，在建模之前要确定。\n",
    "\n",
    "FS, Modeling是关联的，应该放在一起"
   ]
  },
  {
   "cell_type": "markdown",
   "metadata": {},
   "source": [
    "## 关于模型选择\n",
    "开始的时候选一些简单可以看明白的模型(如DT, GBDT等，尽量自己实现)，尽量不要大而全的模型(如catboost)。因为大而全的模型对自己来说是黑箱，虽然效果很好，但自己不知道它到底对特征做了些什么，不利于自己提高，\n",
    "\n",
    "但是大而全的模型可以作为自己模型改进的一个方向，只要看懂了，就可以加到自己的模型中！"
   ]
  },
  {
   "cell_type": "markdown",
   "metadata": {},
   "source": [
    "## EDA\n",
    "\n",
    "探索性数据分析(Exploratory Data Analysis,简称EDA)\n",
    "\n",
    "## FE特征工程\n",
    "Feature Engineering\n",
    "* 类别变量\n",
    "    * 无序类别变量\n",
    "    * 有序类别变量\n",
    "* 连续变量\n",
    "* 时间变量\n",
    "\n",
    "## FS特征选择\n",
    "feature selection"
   ]
  },
  {
   "cell_type": "markdown",
   "metadata": {},
   "source": [
    "## 数据划分"
   ]
  },
  {
   "cell_type": "markdown",
   "metadata": {},
   "source": [
    "## Modeling"
   ]
  },
  {
   "cell_type": "markdown",
   "metadata": {},
   "source": [
    "## 模型融合"
   ]
  },
  {
   "cell_type": "markdown",
   "metadata": {},
   "source": [
    "# 时间变量特征工程\n",
    "## 月份特征\n",
    "* 传统的公历月份特征1-12  \n",
    "\n",
    "但是在一些预测销量的题目中，要考虑具体情况，如对中国市场而言是否是春节月，对销量的影响很大！可以增加如下特征\n",
    "* 是否是春节月\n",
    "* 是否是春节月前一月\n",
    "* 是否是春节月后一月\n",
    "* 该月的天数\n",
    "* 该月的工作日和非工作日的天数"
   ]
  },
  {
   "cell_type": "code",
   "execution_count": null,
   "metadata": {},
   "outputs": [],
   "source": []
  }
 ],
 "metadata": {
  "kernelspec": {
   "display_name": "Python 3",
   "language": "python",
   "name": "python3"
  },
  "language_info": {
   "codemirror_mode": {
    "name": "ipython",
    "version": 3
   },
   "file_extension": ".py",
   "mimetype": "text/x-python",
   "name": "python",
   "nbconvert_exporter": "python",
   "pygments_lexer": "ipython3",
   "version": "3.7.3"
  },
  "toc": {
   "base_numbering": 1,
   "nav_menu": {},
   "number_sections": true,
   "sideBar": true,
   "skip_h1_title": false,
   "title_cell": "Table of Contents",
   "title_sidebar": "Contents",
   "toc_cell": false,
   "toc_position": {},
   "toc_section_display": true,
   "toc_window_display": true
  }
 },
 "nbformat": 4,
 "nbformat_minor": 2
}

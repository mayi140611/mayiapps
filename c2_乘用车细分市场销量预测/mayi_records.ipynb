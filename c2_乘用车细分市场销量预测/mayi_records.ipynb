{
 "cells": [
  {
   "cell_type": "markdown",
   "metadata": {},
   "source": [
    "# 乘用车销量预测\n",
    "\n",
    "非常典型的回归预测问题。\n",
    "\n",
    "难点就在给定一个时间序列，该怎么构造特征，构造哪些特征！ 这些都是通用的，可以用到任何的时间序列回归问题。\n",
    "\n",
    "如果一个特征的取值范围大，或者有异常值，如何处理？  取log可以显著的减小异常值的影响\n",
    "\n",
    "\n",
    "\n",
    "关于数据划分：\n",
    "\n",
    "时序数据的预测应该是过去预测未来，切忌打乱后随机取一定的比例进行预测，因为这样会有泄漏问题"
   ]
  },
  {
   "cell_type": "markdown",
   "metadata": {},
   "source": [
    "# 模型相关问题记录\n",
    "对数值变量进行StandardScaler变换后，训练效果没有变化，说明catboost已经对数值变量做过这方面的处理"
   ]
  }
 ],
 "metadata": {
  "kernelspec": {
   "display_name": "Python 3",
   "language": "python",
   "name": "python3"
  },
  "language_info": {
   "codemirror_mode": {
    "name": "ipython",
    "version": 3
   },
   "file_extension": ".py",
   "mimetype": "text/x-python",
   "name": "python",
   "nbconvert_exporter": "python",
   "pygments_lexer": "ipython3",
   "version": "3.7.3"
  },
  "toc": {
   "base_numbering": 1,
   "nav_menu": {},
   "number_sections": true,
   "sideBar": true,
   "skip_h1_title": false,
   "title_cell": "Table of Contents",
   "title_sidebar": "Contents",
   "toc_cell": false,
   "toc_position": {},
   "toc_section_display": true,
   "toc_window_display": false
  }
 },
 "nbformat": 4,
 "nbformat_minor": 2
}

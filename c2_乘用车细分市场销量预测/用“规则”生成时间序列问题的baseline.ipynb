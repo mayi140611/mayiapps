{
 "cells": [
  {
   "cell_type": "markdown",
   "metadata": {},
   "source": [
    "https://mp.weixin.qq.com/s/GEgWHc8JngNsZYHUtBjHNg\n",
    "\n",
    "https://discussion.datafountain.cn/questions/2413?shareFromPage=PAGE_QUESTION"
   ]
  },
  {
   "cell_type": "code",
   "execution_count": 2,
   "metadata": {},
   "outputs": [],
   "source": [
    "import numpy as np\n",
    "import pandas as pd"
   ]
  },
  {
   "cell_type": "code",
   "execution_count": 5,
   "metadata": {},
   "outputs": [],
   "source": [
    "train_sales  = pd.read_csv('data_origin/train/train_sales_data.csv')\n",
    "\n",
    "evaluation_public = pd.read_csv('data_origin/evaluation_public.csv')"
   ]
  },
  {
   "cell_type": "code",
   "execution_count": 6,
   "metadata": {},
   "outputs": [],
   "source": [
    "def rmse(predict,real,xishu,month):\n",
    "        rmse1 = (((predict - (real / month.map(lambda x:float(x))) ).map(lambda x:np.sqrt(x**2)))*xishu).mean()\n",
    "        return rmse1"
   ]
  },
  {
   "cell_type": "code",
   "execution_count": 7,
   "metadata": {},
   "outputs": [],
   "source": [
    "model_name = (evaluation_public[['adcode','model']].drop_duplicates()).reset_index()"
   ]
  },
  {
   "cell_type": "code",
   "execution_count": 8,
   "metadata": {},
   "outputs": [],
   "source": [
    "all_result = None\n",
    "for i in np.arange(0,len(model_name)):\n",
    "   adcode_mid = model_name[model_name['index'] == i]['adcode'][i]\n",
    "   model_mid = model_name[model_name['index'] == i]['model'][i]\n",
    "   train_sales_mid = train_sales[(train_sales['adcode']==adcode_mid)&(train_sales['model']==model_mid)]\n",
    "   train_sales_mid = train_sales_mid.sort_values(['regYear','regMonth'])\n",
    "   train_sales_mid['xishu'] = np.arange(len(train_sales_mid)-1,-1,-1)\n",
    "   train_sales_mid['xishu'] = train_sales_mid['xishu'].map(lambda x:1/(x+1))#map(lambda x:np.exp(-0.1*x))\n",
    "   train_sales_month = train_sales_mid.groupby('regMonth',as_index=False)['salesVolume'].agg({'mean_sum':'mean'})\n",
    "   train_sales_month['month'] = train_sales_month['mean_sum'] / train_sales_month['mean_sum'].max()\n",
    "   train_sales_mid = pd.merge(train_sales_mid,train_sales_month[['regMonth','month']],on=['regMonth'],how='left')\n",
    "   train_sales_mid_max = train_sales_mid['salesVolume'].max()\n",
    "   train_sales_mid_min = train_sales_mid['salesVolume'].min()\n",
    "   evaluation_public_mid = evaluation_public[(evaluation_public['adcode']==adcode_mid)&(evaluation_public['model']==model_mid)]\n",
    "   evaluation_public_mid = pd.merge(evaluation_public_mid,train_sales_month[['regMonth','month']],on=['regMonth'],how='left')\n",
    "   rmse_min = np.inf\n",
    "   best_num = None\n",
    "   for num in np.arange(train_sales_mid_min+0.3 ,train_sales_mid_max,0.3):\n",
    "        rmse1 = rmse(num,train_sales_mid['salesVolume'],train_sales_mid['xishu'],train_sales_mid['month'])\n",
    "        if rmse1 < rmse_min:\n",
    "            rmse_min = rmse1\n",
    "            best_num = num\n",
    "   evaluation_public_mid['forecastVolum'] = best_num \n",
    "   evaluation_public_mid['forecastVolum'] = evaluation_public_mid['forecastVolum']*evaluation_public_mid['month']\n",
    "   all_result = pd.concat([all_result,evaluation_public_mid],axis=0)"
   ]
  },
  {
   "cell_type": "code",
   "execution_count": 9,
   "metadata": {},
   "outputs": [],
   "source": [
    "all_result = all_result.sort_values(['id'])   "
   ]
  },
  {
   "cell_type": "code",
   "execution_count": 10,
   "metadata": {},
   "outputs": [],
   "source": [
    "dfr = all_result[['id', 'forecastVolum']].round().astype(int)"
   ]
  },
  {
   "cell_type": "code",
   "execution_count": 11,
   "metadata": {},
   "outputs": [
    {
     "data": {
      "text/html": [
       "<div>\n",
       "<style scoped>\n",
       "    .dataframe tbody tr th:only-of-type {\n",
       "        vertical-align: middle;\n",
       "    }\n",
       "\n",
       "    .dataframe tbody tr th {\n",
       "        vertical-align: top;\n",
       "    }\n",
       "\n",
       "    .dataframe thead th {\n",
       "        text-align: right;\n",
       "    }\n",
       "</style>\n",
       "<table border=\"1\" class=\"dataframe\">\n",
       "  <thead>\n",
       "    <tr style=\"text-align: right;\">\n",
       "      <th></th>\n",
       "      <th>id</th>\n",
       "      <th>forecastVolum</th>\n",
       "    </tr>\n",
       "  </thead>\n",
       "  <tbody>\n",
       "    <tr>\n",
       "      <th>0</th>\n",
       "      <td>1</td>\n",
       "      <td>287</td>\n",
       "    </tr>\n",
       "    <tr>\n",
       "      <th>0</th>\n",
       "      <td>2</td>\n",
       "      <td>416</td>\n",
       "    </tr>\n",
       "    <tr>\n",
       "      <th>0</th>\n",
       "      <td>3</td>\n",
       "      <td>205</td>\n",
       "    </tr>\n",
       "    <tr>\n",
       "      <th>0</th>\n",
       "      <td>4</td>\n",
       "      <td>380</td>\n",
       "    </tr>\n",
       "    <tr>\n",
       "      <th>0</th>\n",
       "      <td>5</td>\n",
       "      <td>500</td>\n",
       "    </tr>\n",
       "  </tbody>\n",
       "</table>\n",
       "</div>"
      ],
      "text/plain": [
       "   id  forecastVolum\n",
       "0   1            287\n",
       "0   2            416\n",
       "0   3            205\n",
       "0   4            380\n",
       "0   5            500"
      ]
     },
     "execution_count": 11,
     "metadata": {},
     "output_type": "execute_result"
    }
   ],
   "source": [
    "dfr.head()"
   ]
  },
  {
   "cell_type": "code",
   "execution_count": 12,
   "metadata": {},
   "outputs": [],
   "source": [
    "\n",
    "dfr.to_csv('ds_ccf_car_sales.csv', index=False)"
   ]
  },
  {
   "cell_type": "code",
   "execution_count": 13,
   "metadata": {},
   "outputs": [
    {
     "data": {
      "text/plain": [
       "500.7301136363636"
      ]
     },
     "execution_count": 13,
     "metadata": {},
     "output_type": "execute_result"
    }
   ],
   "source": [
    "dfr.forecastVolum.mean()"
   ]
  },
  {
   "cell_type": "code",
   "execution_count": 14,
   "metadata": {},
   "outputs": [
    {
     "data": {
      "text/plain": [
       "(5280, 2)"
      ]
     },
     "execution_count": 14,
     "metadata": {},
     "output_type": "execute_result"
    }
   ],
   "source": [
    "dfr.shape"
   ]
  },
  {
   "cell_type": "code",
   "execution_count": null,
   "metadata": {},
   "outputs": [],
   "source": []
  }
 ],
 "metadata": {
  "kernelspec": {
   "display_name": "Python 3",
   "language": "python",
   "name": "python3"
  },
  "language_info": {
   "codemirror_mode": {
    "name": "ipython",
    "version": 3
   },
   "file_extension": ".py",
   "mimetype": "text/x-python",
   "name": "python",
   "nbconvert_exporter": "python",
   "pygments_lexer": "ipython3",
   "version": "3.7.3"
  },
  "toc": {
   "base_numbering": 1,
   "nav_menu": {},
   "number_sections": true,
   "sideBar": true,
   "skip_h1_title": false,
   "title_cell": "Table of Contents",
   "title_sidebar": "Contents",
   "toc_cell": false,
   "toc_position": {},
   "toc_section_display": true,
   "toc_window_display": false
  }
 },
 "nbformat": 4,
 "nbformat_minor": 2
}

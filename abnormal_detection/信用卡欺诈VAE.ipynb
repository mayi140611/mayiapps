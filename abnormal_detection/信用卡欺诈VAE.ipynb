{
 "cells": [
  {
   "cell_type": "code",
   "execution_count": 3,
   "metadata": {},
   "outputs": [],
   "source": [
    "import tensorflow as tf\n",
    "import tensorflow.keras as keras\n",
    "import numpy as np\n",
    "import tensorflow.keras.backend as K\n",
    "import matplotlib.pyplot as plt\n",
    "import matplotlib.image as Image\n",
    "import cv2\n",
    "import pandas as pd\n",
    "import math\n",
    "from sklearn.cluster import KMeans"
   ]
  },
  {
   "cell_type": "code",
   "execution_count": 5,
   "metadata": {},
   "outputs": [
    {
     "data": {
      "text/html": [
       "<div>\n",
       "<style scoped>\n",
       "    .dataframe tbody tr th:only-of-type {\n",
       "        vertical-align: middle;\n",
       "    }\n",
       "\n",
       "    .dataframe tbody tr th {\n",
       "        vertical-align: top;\n",
       "    }\n",
       "\n",
       "    .dataframe thead th {\n",
       "        text-align: right;\n",
       "    }\n",
       "</style>\n",
       "<table border=\"1\" class=\"dataframe\">\n",
       "  <thead>\n",
       "    <tr style=\"text-align: right;\">\n",
       "      <th></th>\n",
       "      <th>Time</th>\n",
       "      <th>V1</th>\n",
       "      <th>V2</th>\n",
       "      <th>V3</th>\n",
       "      <th>V4</th>\n",
       "      <th>V5</th>\n",
       "      <th>V6</th>\n",
       "      <th>V7</th>\n",
       "      <th>V8</th>\n",
       "      <th>V9</th>\n",
       "      <th>...</th>\n",
       "      <th>V21</th>\n",
       "      <th>V22</th>\n",
       "      <th>V23</th>\n",
       "      <th>V24</th>\n",
       "      <th>V25</th>\n",
       "      <th>V26</th>\n",
       "      <th>V27</th>\n",
       "      <th>V28</th>\n",
       "      <th>Amount</th>\n",
       "      <th>Class</th>\n",
       "    </tr>\n",
       "  </thead>\n",
       "  <tbody>\n",
       "    <tr>\n",
       "      <th>0</th>\n",
       "      <td>0.0</td>\n",
       "      <td>-1.359807</td>\n",
       "      <td>-0.072781</td>\n",
       "      <td>2.536347</td>\n",
       "      <td>1.378155</td>\n",
       "      <td>-0.338321</td>\n",
       "      <td>0.462388</td>\n",
       "      <td>0.239599</td>\n",
       "      <td>0.098698</td>\n",
       "      <td>0.363787</td>\n",
       "      <td>...</td>\n",
       "      <td>-0.018307</td>\n",
       "      <td>0.277838</td>\n",
       "      <td>-0.110474</td>\n",
       "      <td>0.066928</td>\n",
       "      <td>0.128539</td>\n",
       "      <td>-0.189115</td>\n",
       "      <td>0.133558</td>\n",
       "      <td>-0.021053</td>\n",
       "      <td>149.62</td>\n",
       "      <td>0</td>\n",
       "    </tr>\n",
       "    <tr>\n",
       "      <th>1</th>\n",
       "      <td>0.0</td>\n",
       "      <td>1.191857</td>\n",
       "      <td>0.266151</td>\n",
       "      <td>0.166480</td>\n",
       "      <td>0.448154</td>\n",
       "      <td>0.060018</td>\n",
       "      <td>-0.082361</td>\n",
       "      <td>-0.078803</td>\n",
       "      <td>0.085102</td>\n",
       "      <td>-0.255425</td>\n",
       "      <td>...</td>\n",
       "      <td>-0.225775</td>\n",
       "      <td>-0.638672</td>\n",
       "      <td>0.101288</td>\n",
       "      <td>-0.339846</td>\n",
       "      <td>0.167170</td>\n",
       "      <td>0.125895</td>\n",
       "      <td>-0.008983</td>\n",
       "      <td>0.014724</td>\n",
       "      <td>2.69</td>\n",
       "      <td>0</td>\n",
       "    </tr>\n",
       "    <tr>\n",
       "      <th>2</th>\n",
       "      <td>1.0</td>\n",
       "      <td>-1.358354</td>\n",
       "      <td>-1.340163</td>\n",
       "      <td>1.773209</td>\n",
       "      <td>0.379780</td>\n",
       "      <td>-0.503198</td>\n",
       "      <td>1.800499</td>\n",
       "      <td>0.791461</td>\n",
       "      <td>0.247676</td>\n",
       "      <td>-1.514654</td>\n",
       "      <td>...</td>\n",
       "      <td>0.247998</td>\n",
       "      <td>0.771679</td>\n",
       "      <td>0.909412</td>\n",
       "      <td>-0.689281</td>\n",
       "      <td>-0.327642</td>\n",
       "      <td>-0.139097</td>\n",
       "      <td>-0.055353</td>\n",
       "      <td>-0.059752</td>\n",
       "      <td>378.66</td>\n",
       "      <td>0</td>\n",
       "    </tr>\n",
       "    <tr>\n",
       "      <th>3</th>\n",
       "      <td>1.0</td>\n",
       "      <td>-0.966272</td>\n",
       "      <td>-0.185226</td>\n",
       "      <td>1.792993</td>\n",
       "      <td>-0.863291</td>\n",
       "      <td>-0.010309</td>\n",
       "      <td>1.247203</td>\n",
       "      <td>0.237609</td>\n",
       "      <td>0.377436</td>\n",
       "      <td>-1.387024</td>\n",
       "      <td>...</td>\n",
       "      <td>-0.108300</td>\n",
       "      <td>0.005274</td>\n",
       "      <td>-0.190321</td>\n",
       "      <td>-1.175575</td>\n",
       "      <td>0.647376</td>\n",
       "      <td>-0.221929</td>\n",
       "      <td>0.062723</td>\n",
       "      <td>0.061458</td>\n",
       "      <td>123.50</td>\n",
       "      <td>0</td>\n",
       "    </tr>\n",
       "    <tr>\n",
       "      <th>4</th>\n",
       "      <td>2.0</td>\n",
       "      <td>-1.158233</td>\n",
       "      <td>0.877737</td>\n",
       "      <td>1.548718</td>\n",
       "      <td>0.403034</td>\n",
       "      <td>-0.407193</td>\n",
       "      <td>0.095921</td>\n",
       "      <td>0.592941</td>\n",
       "      <td>-0.270533</td>\n",
       "      <td>0.817739</td>\n",
       "      <td>...</td>\n",
       "      <td>-0.009431</td>\n",
       "      <td>0.798278</td>\n",
       "      <td>-0.137458</td>\n",
       "      <td>0.141267</td>\n",
       "      <td>-0.206010</td>\n",
       "      <td>0.502292</td>\n",
       "      <td>0.219422</td>\n",
       "      <td>0.215153</td>\n",
       "      <td>69.99</td>\n",
       "      <td>0</td>\n",
       "    </tr>\n",
       "  </tbody>\n",
       "</table>\n",
       "<p>5 rows × 31 columns</p>\n",
       "</div>"
      ],
      "text/plain": [
       "   Time        V1        V2        V3        V4        V5        V6        V7  \\\n",
       "0   0.0 -1.359807 -0.072781  2.536347  1.378155 -0.338321  0.462388  0.239599   \n",
       "1   0.0  1.191857  0.266151  0.166480  0.448154  0.060018 -0.082361 -0.078803   \n",
       "2   1.0 -1.358354 -1.340163  1.773209  0.379780 -0.503198  1.800499  0.791461   \n",
       "3   1.0 -0.966272 -0.185226  1.792993 -0.863291 -0.010309  1.247203  0.237609   \n",
       "4   2.0 -1.158233  0.877737  1.548718  0.403034 -0.407193  0.095921  0.592941   \n",
       "\n",
       "         V8        V9  ...       V21       V22       V23       V24       V25  \\\n",
       "0  0.098698  0.363787  ... -0.018307  0.277838 -0.110474  0.066928  0.128539   \n",
       "1  0.085102 -0.255425  ... -0.225775 -0.638672  0.101288 -0.339846  0.167170   \n",
       "2  0.247676 -1.514654  ...  0.247998  0.771679  0.909412 -0.689281 -0.327642   \n",
       "3  0.377436 -1.387024  ... -0.108300  0.005274 -0.190321 -1.175575  0.647376   \n",
       "4 -0.270533  0.817739  ... -0.009431  0.798278 -0.137458  0.141267 -0.206010   \n",
       "\n",
       "        V26       V27       V28  Amount  Class  \n",
       "0 -0.189115  0.133558 -0.021053  149.62      0  \n",
       "1  0.125895 -0.008983  0.014724    2.69      0  \n",
       "2 -0.139097 -0.055353 -0.059752  378.66      0  \n",
       "3 -0.221929  0.062723  0.061458  123.50      0  \n",
       "4  0.502292  0.219422  0.215153   69.99      0  \n",
       "\n",
       "[5 rows x 31 columns]"
      ]
     },
     "execution_count": 5,
     "metadata": {},
     "output_type": "execute_result"
    }
   ],
   "source": [
    "df_origin = pd.read_csv('data_gen/creditcard.csv')\n",
    "df_origin.head()"
   ]
  },
  {
   "cell_type": "code",
   "execution_count": 6,
   "metadata": {},
   "outputs": [
    {
     "data": {
      "text/plain": [
       "0    284315\n",
       "1       492\n",
       "Name: Class, dtype: int64"
      ]
     },
     "execution_count": 6,
     "metadata": {},
     "output_type": "execute_result"
    }
   ],
   "source": [
    "df_origin.iloc[:, -1].value_counts()"
   ]
  },
  {
   "cell_type": "code",
   "execution_count": 7,
   "metadata": {},
   "outputs": [],
   "source": [
    "import sys\n",
    "sys.path.append('/Users/luoyonggui/PycharmProjects/mayiutils_n1/mayiutils/data_prepare')"
   ]
  },
  {
   "cell_type": "code",
   "execution_count": 8,
   "metadata": {},
   "outputs": [],
   "source": [
    "from data_explore import DataExplore as de"
   ]
  },
  {
   "cell_type": "code",
   "execution_count": 9,
   "metadata": {},
   "outputs": [
    {
     "name": "stdout",
     "output_type": "stream",
     "text": [
      "num of records: 284807, num of columns: 31\n"
     ]
    },
    {
     "data": {
      "text/html": [
       "<div>\n",
       "<style scoped>\n",
       "    .dataframe tbody tr th:only-of-type {\n",
       "        vertical-align: middle;\n",
       "    }\n",
       "\n",
       "    .dataframe tbody tr th {\n",
       "        vertical-align: top;\n",
       "    }\n",
       "\n",
       "    .dataframe thead th {\n",
       "        text-align: right;\n",
       "    }\n",
       "</style>\n",
       "<table border=\"1\" class=\"dataframe\">\n",
       "  <thead>\n",
       "    <tr style=\"text-align: right;\">\n",
       "      <th></th>\n",
       "      <th>Data Type</th>\n",
       "      <th>Unique Values</th>\n",
       "      <th>% Missing</th>\n",
       "      <th>Mode</th>\n",
       "      <th>Count Mode</th>\n",
       "      <th>% Mode</th>\n",
       "      <th>mean</th>\n",
       "      <th>std</th>\n",
       "      <th>min</th>\n",
       "      <th>25%</th>\n",
       "      <th>50%</th>\n",
       "      <th>75%</th>\n",
       "      <th>max</th>\n",
       "    </tr>\n",
       "  </thead>\n",
       "  <tbody>\n",
       "    <tr>\n",
       "      <th>Time</th>\n",
       "      <td>float64</td>\n",
       "      <td>124592</td>\n",
       "      <td>0.0</td>\n",
       "      <td>163152.000000</td>\n",
       "      <td>36</td>\n",
       "      <td>0.0126401</td>\n",
       "      <td>9.481386e+04</td>\n",
       "      <td>47488.145955</td>\n",
       "      <td>0.000000</td>\n",
       "      <td>54201.500000</td>\n",
       "      <td>84692.000000</td>\n",
       "      <td>139320.500000</td>\n",
       "      <td>172792.000000</td>\n",
       "    </tr>\n",
       "    <tr>\n",
       "      <th>V1</th>\n",
       "      <td>float64</td>\n",
       "      <td>275663</td>\n",
       "      <td>0.0</td>\n",
       "      <td>1.245674</td>\n",
       "      <td>77</td>\n",
       "      <td>0.0270359</td>\n",
       "      <td>3.919560e-15</td>\n",
       "      <td>1.958696</td>\n",
       "      <td>-56.407510</td>\n",
       "      <td>-0.920373</td>\n",
       "      <td>0.018109</td>\n",
       "      <td>1.315642</td>\n",
       "      <td>2.454930</td>\n",
       "    </tr>\n",
       "    <tr>\n",
       "      <th>V2</th>\n",
       "      <td>float64</td>\n",
       "      <td>275663</td>\n",
       "      <td>0.0</td>\n",
       "      <td>-0.326668</td>\n",
       "      <td>77</td>\n",
       "      <td>0.0270359</td>\n",
       "      <td>5.688174e-16</td>\n",
       "      <td>1.651309</td>\n",
       "      <td>-72.715728</td>\n",
       "      <td>-0.598550</td>\n",
       "      <td>0.065486</td>\n",
       "      <td>0.803724</td>\n",
       "      <td>22.057729</td>\n",
       "    </tr>\n",
       "    <tr>\n",
       "      <th>V3</th>\n",
       "      <td>float64</td>\n",
       "      <td>275663</td>\n",
       "      <td>0.0</td>\n",
       "      <td>-2.752041</td>\n",
       "      <td>77</td>\n",
       "      <td>0.0270359</td>\n",
       "      <td>-8.769071e-15</td>\n",
       "      <td>1.516255</td>\n",
       "      <td>-48.325589</td>\n",
       "      <td>-0.890365</td>\n",
       "      <td>0.179846</td>\n",
       "      <td>1.027196</td>\n",
       "      <td>9.382558</td>\n",
       "    </tr>\n",
       "    <tr>\n",
       "      <th>V4</th>\n",
       "      <td>float64</td>\n",
       "      <td>275663</td>\n",
       "      <td>0.0</td>\n",
       "      <td>-0.842316</td>\n",
       "      <td>77</td>\n",
       "      <td>0.0270359</td>\n",
       "      <td>2.782312e-15</td>\n",
       "      <td>1.415869</td>\n",
       "      <td>-5.683171</td>\n",
       "      <td>-0.848640</td>\n",
       "      <td>-0.019847</td>\n",
       "      <td>0.743341</td>\n",
       "      <td>16.875344</td>\n",
       "    </tr>\n",
       "    <tr>\n",
       "      <th>V5</th>\n",
       "      <td>float64</td>\n",
       "      <td>275663</td>\n",
       "      <td>0.0</td>\n",
       "      <td>-0.562777</td>\n",
       "      <td>77</td>\n",
       "      <td>0.0270359</td>\n",
       "      <td>-1.552563e-15</td>\n",
       "      <td>1.380247</td>\n",
       "      <td>-113.743307</td>\n",
       "      <td>-0.691597</td>\n",
       "      <td>-0.054336</td>\n",
       "      <td>0.611926</td>\n",
       "      <td>34.801666</td>\n",
       "    </tr>\n",
       "    <tr>\n",
       "      <th>V6</th>\n",
       "      <td>float64</td>\n",
       "      <td>275663</td>\n",
       "      <td>0.0</td>\n",
       "      <td>-1.011073</td>\n",
       "      <td>77</td>\n",
       "      <td>0.0270359</td>\n",
       "      <td>2.010663e-15</td>\n",
       "      <td>1.332271</td>\n",
       "      <td>-26.160506</td>\n",
       "      <td>-0.768296</td>\n",
       "      <td>-0.274187</td>\n",
       "      <td>0.398565</td>\n",
       "      <td>73.301626</td>\n",
       "    </tr>\n",
       "    <tr>\n",
       "      <th>V7</th>\n",
       "      <td>float64</td>\n",
       "      <td>275663</td>\n",
       "      <td>0.0</td>\n",
       "      <td>-0.432126</td>\n",
       "      <td>77</td>\n",
       "      <td>0.0270359</td>\n",
       "      <td>-1.694249e-15</td>\n",
       "      <td>1.237094</td>\n",
       "      <td>-43.557242</td>\n",
       "      <td>-0.554076</td>\n",
       "      <td>0.040103</td>\n",
       "      <td>0.570436</td>\n",
       "      <td>120.589494</td>\n",
       "    </tr>\n",
       "    <tr>\n",
       "      <th>V8</th>\n",
       "      <td>float64</td>\n",
       "      <td>275663</td>\n",
       "      <td>0.0</td>\n",
       "      <td>-0.160211</td>\n",
       "      <td>77</td>\n",
       "      <td>0.0270359</td>\n",
       "      <td>-1.927028e-16</td>\n",
       "      <td>1.194353</td>\n",
       "      <td>-73.216718</td>\n",
       "      <td>-0.208630</td>\n",
       "      <td>0.022358</td>\n",
       "      <td>0.327346</td>\n",
       "      <td>20.007208</td>\n",
       "    </tr>\n",
       "    <tr>\n",
       "      <th>V9</th>\n",
       "      <td>float64</td>\n",
       "      <td>275663</td>\n",
       "      <td>0.0</td>\n",
       "      <td>0.170362</td>\n",
       "      <td>77</td>\n",
       "      <td>0.0270359</td>\n",
       "      <td>-3.137024e-15</td>\n",
       "      <td>1.098632</td>\n",
       "      <td>-13.434066</td>\n",
       "      <td>-0.643098</td>\n",
       "      <td>-0.051429</td>\n",
       "      <td>0.597139</td>\n",
       "      <td>15.594995</td>\n",
       "    </tr>\n",
       "    <tr>\n",
       "      <th>V10</th>\n",
       "      <td>float64</td>\n",
       "      <td>275663</td>\n",
       "      <td>0.0</td>\n",
       "      <td>-0.075186</td>\n",
       "      <td>77</td>\n",
       "      <td>0.0270359</td>\n",
       "      <td>1.768627e-15</td>\n",
       "      <td>1.088850</td>\n",
       "      <td>-24.588262</td>\n",
       "      <td>-0.535426</td>\n",
       "      <td>-0.092917</td>\n",
       "      <td>0.453923</td>\n",
       "      <td>23.745136</td>\n",
       "    </tr>\n",
       "    <tr>\n",
       "      <th>V11</th>\n",
       "      <td>float64</td>\n",
       "      <td>275663</td>\n",
       "      <td>0.0</td>\n",
       "      <td>-0.356749</td>\n",
       "      <td>77</td>\n",
       "      <td>0.0270359</td>\n",
       "      <td>9.170318e-16</td>\n",
       "      <td>1.020713</td>\n",
       "      <td>-4.797473</td>\n",
       "      <td>-0.762494</td>\n",
       "      <td>-0.032757</td>\n",
       "      <td>0.739593</td>\n",
       "      <td>12.018913</td>\n",
       "    </tr>\n",
       "    <tr>\n",
       "      <th>V12</th>\n",
       "      <td>float64</td>\n",
       "      <td>275663</td>\n",
       "      <td>0.0</td>\n",
       "      <td>-0.073460</td>\n",
       "      <td>77</td>\n",
       "      <td>0.0270359</td>\n",
       "      <td>-1.810658e-15</td>\n",
       "      <td>0.999201</td>\n",
       "      <td>-18.683715</td>\n",
       "      <td>-0.405571</td>\n",
       "      <td>0.140033</td>\n",
       "      <td>0.618238</td>\n",
       "      <td>7.848392</td>\n",
       "    </tr>\n",
       "    <tr>\n",
       "      <th>V13</th>\n",
       "      <td>float64</td>\n",
       "      <td>275663</td>\n",
       "      <td>0.0</td>\n",
       "      <td>-0.517760</td>\n",
       "      <td>77</td>\n",
       "      <td>0.0270359</td>\n",
       "      <td>1.693438e-15</td>\n",
       "      <td>0.995274</td>\n",
       "      <td>-5.791881</td>\n",
       "      <td>-0.648539</td>\n",
       "      <td>-0.013568</td>\n",
       "      <td>0.662505</td>\n",
       "      <td>7.126883</td>\n",
       "    </tr>\n",
       "    <tr>\n",
       "      <th>V14</th>\n",
       "      <td>float64</td>\n",
       "      <td>275663</td>\n",
       "      <td>0.0</td>\n",
       "      <td>0.406969</td>\n",
       "      <td>77</td>\n",
       "      <td>0.0270359</td>\n",
       "      <td>1.479045e-15</td>\n",
       "      <td>0.958596</td>\n",
       "      <td>-19.214325</td>\n",
       "      <td>-0.425574</td>\n",
       "      <td>0.050601</td>\n",
       "      <td>0.493150</td>\n",
       "      <td>10.526766</td>\n",
       "    </tr>\n",
       "    <tr>\n",
       "      <th>V15</th>\n",
       "      <td>float64</td>\n",
       "      <td>275663</td>\n",
       "      <td>0.0</td>\n",
       "      <td>1.124147</td>\n",
       "      <td>77</td>\n",
       "      <td>0.0270359</td>\n",
       "      <td>3.482336e-15</td>\n",
       "      <td>0.915316</td>\n",
       "      <td>-4.498945</td>\n",
       "      <td>-0.582884</td>\n",
       "      <td>0.048072</td>\n",
       "      <td>0.648821</td>\n",
       "      <td>8.877742</td>\n",
       "    </tr>\n",
       "    <tr>\n",
       "      <th>V16</th>\n",
       "      <td>float64</td>\n",
       "      <td>275663</td>\n",
       "      <td>0.0</td>\n",
       "      <td>-0.371962</td>\n",
       "      <td>77</td>\n",
       "      <td>0.0270359</td>\n",
       "      <td>1.392007e-15</td>\n",
       "      <td>0.876253</td>\n",
       "      <td>-14.129855</td>\n",
       "      <td>-0.468037</td>\n",
       "      <td>0.066413</td>\n",
       "      <td>0.523296</td>\n",
       "      <td>17.315112</td>\n",
       "    </tr>\n",
       "    <tr>\n",
       "      <th>V17</th>\n",
       "      <td>float64</td>\n",
       "      <td>275663</td>\n",
       "      <td>0.0</td>\n",
       "      <td>-0.601957</td>\n",
       "      <td>77</td>\n",
       "      <td>0.0270359</td>\n",
       "      <td>-7.528491e-16</td>\n",
       "      <td>0.849337</td>\n",
       "      <td>-25.162799</td>\n",
       "      <td>-0.483748</td>\n",
       "      <td>-0.065676</td>\n",
       "      <td>0.399675</td>\n",
       "      <td>9.253526</td>\n",
       "    </tr>\n",
       "    <tr>\n",
       "      <th>V18</th>\n",
       "      <td>float64</td>\n",
       "      <td>275663</td>\n",
       "      <td>0.0</td>\n",
       "      <td>-0.438992</td>\n",
       "      <td>77</td>\n",
       "      <td>0.0270359</td>\n",
       "      <td>4.328772e-16</td>\n",
       "      <td>0.838176</td>\n",
       "      <td>-9.498746</td>\n",
       "      <td>-0.498850</td>\n",
       "      <td>-0.003636</td>\n",
       "      <td>0.500807</td>\n",
       "      <td>5.041069</td>\n",
       "    </tr>\n",
       "    <tr>\n",
       "      <th>V19</th>\n",
       "      <td>float64</td>\n",
       "      <td>275663</td>\n",
       "      <td>0.0</td>\n",
       "      <td>-0.330590</td>\n",
       "      <td>77</td>\n",
       "      <td>0.0270359</td>\n",
       "      <td>9.049732e-16</td>\n",
       "      <td>0.814041</td>\n",
       "      <td>-7.213527</td>\n",
       "      <td>-0.456299</td>\n",
       "      <td>0.003735</td>\n",
       "      <td>0.458949</td>\n",
       "      <td>5.591971</td>\n",
       "    </tr>\n",
       "    <tr>\n",
       "      <th>V20</th>\n",
       "      <td>float64</td>\n",
       "      <td>275663</td>\n",
       "      <td>0.0</td>\n",
       "      <td>-0.180370</td>\n",
       "      <td>77</td>\n",
       "      <td>0.0270359</td>\n",
       "      <td>5.085503e-16</td>\n",
       "      <td>0.770925</td>\n",
       "      <td>-54.497720</td>\n",
       "      <td>-0.211721</td>\n",
       "      <td>-0.062481</td>\n",
       "      <td>0.133041</td>\n",
       "      <td>39.420904</td>\n",
       "    </tr>\n",
       "    <tr>\n",
       "      <th>V21</th>\n",
       "      <td>float64</td>\n",
       "      <td>275663</td>\n",
       "      <td>0.0</td>\n",
       "      <td>-0.262581</td>\n",
       "      <td>77</td>\n",
       "      <td>0.0270359</td>\n",
       "      <td>1.537294e-16</td>\n",
       "      <td>0.734524</td>\n",
       "      <td>-34.830382</td>\n",
       "      <td>-0.228395</td>\n",
       "      <td>-0.029450</td>\n",
       "      <td>0.186377</td>\n",
       "      <td>27.202839</td>\n",
       "    </tr>\n",
       "    <tr>\n",
       "      <th>V22</th>\n",
       "      <td>float64</td>\n",
       "      <td>275663</td>\n",
       "      <td>0.0</td>\n",
       "      <td>-0.816264</td>\n",
       "      <td>77</td>\n",
       "      <td>0.0270359</td>\n",
       "      <td>7.959909e-16</td>\n",
       "      <td>0.725702</td>\n",
       "      <td>-10.933144</td>\n",
       "      <td>-0.542350</td>\n",
       "      <td>0.006782</td>\n",
       "      <td>0.528554</td>\n",
       "      <td>10.503090</td>\n",
       "    </tr>\n",
       "    <tr>\n",
       "      <th>V23</th>\n",
       "      <td>float64</td>\n",
       "      <td>275663</td>\n",
       "      <td>0.0</td>\n",
       "      <td>0.020675</td>\n",
       "      <td>77</td>\n",
       "      <td>0.0270359</td>\n",
       "      <td>5.367590e-16</td>\n",
       "      <td>0.624460</td>\n",
       "      <td>-44.807735</td>\n",
       "      <td>-0.161846</td>\n",
       "      <td>-0.011193</td>\n",
       "      <td>0.147642</td>\n",
       "      <td>22.528412</td>\n",
       "    </tr>\n",
       "    <tr>\n",
       "      <th>V24</th>\n",
       "      <td>float64</td>\n",
       "      <td>275663</td>\n",
       "      <td>0.0</td>\n",
       "      <td>0.357827</td>\n",
       "      <td>77</td>\n",
       "      <td>0.0270359</td>\n",
       "      <td>4.458112e-15</td>\n",
       "      <td>0.605647</td>\n",
       "      <td>-2.836627</td>\n",
       "      <td>-0.354586</td>\n",
       "      <td>0.040976</td>\n",
       "      <td>0.439527</td>\n",
       "      <td>4.584549</td>\n",
       "    </tr>\n",
       "    <tr>\n",
       "      <th>V25</th>\n",
       "      <td>float64</td>\n",
       "      <td>275663</td>\n",
       "      <td>0.0</td>\n",
       "      <td>0.186423</td>\n",
       "      <td>77</td>\n",
       "      <td>0.0270359</td>\n",
       "      <td>1.453003e-15</td>\n",
       "      <td>0.521278</td>\n",
       "      <td>-10.295397</td>\n",
       "      <td>-0.317145</td>\n",
       "      <td>0.016594</td>\n",
       "      <td>0.350716</td>\n",
       "      <td>7.519589</td>\n",
       "    </tr>\n",
       "    <tr>\n",
       "      <th>V26</th>\n",
       "      <td>float64</td>\n",
       "      <td>275663</td>\n",
       "      <td>0.0</td>\n",
       "      <td>-0.398828</td>\n",
       "      <td>77</td>\n",
       "      <td>0.0270359</td>\n",
       "      <td>1.699104e-15</td>\n",
       "      <td>0.482227</td>\n",
       "      <td>-2.604551</td>\n",
       "      <td>-0.326984</td>\n",
       "      <td>-0.052139</td>\n",
       "      <td>0.240952</td>\n",
       "      <td>3.517346</td>\n",
       "    </tr>\n",
       "    <tr>\n",
       "      <th>V27</th>\n",
       "      <td>float64</td>\n",
       "      <td>275663</td>\n",
       "      <td>0.0</td>\n",
       "      <td>-0.035866</td>\n",
       "      <td>77</td>\n",
       "      <td>0.0270359</td>\n",
       "      <td>-3.660161e-16</td>\n",
       "      <td>0.403632</td>\n",
       "      <td>-22.565679</td>\n",
       "      <td>-0.070840</td>\n",
       "      <td>0.001342</td>\n",
       "      <td>0.091045</td>\n",
       "      <td>31.612198</td>\n",
       "    </tr>\n",
       "    <tr>\n",
       "      <th>V28</th>\n",
       "      <td>float64</td>\n",
       "      <td>275663</td>\n",
       "      <td>0.0</td>\n",
       "      <td>-0.060282</td>\n",
       "      <td>77</td>\n",
       "      <td>0.0270359</td>\n",
       "      <td>-1.206049e-16</td>\n",
       "      <td>0.330083</td>\n",
       "      <td>-15.430084</td>\n",
       "      <td>-0.052960</td>\n",
       "      <td>0.011244</td>\n",
       "      <td>0.078280</td>\n",
       "      <td>33.847808</td>\n",
       "    </tr>\n",
       "    <tr>\n",
       "      <th>Amount</th>\n",
       "      <td>float64</td>\n",
       "      <td>32767</td>\n",
       "      <td>0.0</td>\n",
       "      <td>1.000000</td>\n",
       "      <td>13688</td>\n",
       "      <td>4.80606</td>\n",
       "      <td>8.834962e+01</td>\n",
       "      <td>250.120109</td>\n",
       "      <td>0.000000</td>\n",
       "      <td>5.600000</td>\n",
       "      <td>22.000000</td>\n",
       "      <td>77.165000</td>\n",
       "      <td>25691.160000</td>\n",
       "    </tr>\n",
       "    <tr>\n",
       "      <th>Class</th>\n",
       "      <td>int64</td>\n",
       "      <td>2</td>\n",
       "      <td>0.0</td>\n",
       "      <td>0.000000</td>\n",
       "      <td>284315</td>\n",
       "      <td>99.8273</td>\n",
       "      <td>1.727486e-03</td>\n",
       "      <td>0.041527</td>\n",
       "      <td>0.000000</td>\n",
       "      <td>0.000000</td>\n",
       "      <td>0.000000</td>\n",
       "      <td>0.000000</td>\n",
       "      <td>1.000000</td>\n",
       "    </tr>\n",
       "  </tbody>\n",
       "</table>\n",
       "</div>"
      ],
      "text/plain": [
       "       Data Type  Unique Values  % Missing           Mode  Count Mode  \\\n",
       "Time     float64         124592        0.0  163152.000000          36   \n",
       "V1       float64         275663        0.0       1.245674          77   \n",
       "V2       float64         275663        0.0      -0.326668          77   \n",
       "V3       float64         275663        0.0      -2.752041          77   \n",
       "V4       float64         275663        0.0      -0.842316          77   \n",
       "V5       float64         275663        0.0      -0.562777          77   \n",
       "V6       float64         275663        0.0      -1.011073          77   \n",
       "V7       float64         275663        0.0      -0.432126          77   \n",
       "V8       float64         275663        0.0      -0.160211          77   \n",
       "V9       float64         275663        0.0       0.170362          77   \n",
       "V10      float64         275663        0.0      -0.075186          77   \n",
       "V11      float64         275663        0.0      -0.356749          77   \n",
       "V12      float64         275663        0.0      -0.073460          77   \n",
       "V13      float64         275663        0.0      -0.517760          77   \n",
       "V14      float64         275663        0.0       0.406969          77   \n",
       "V15      float64         275663        0.0       1.124147          77   \n",
       "V16      float64         275663        0.0      -0.371962          77   \n",
       "V17      float64         275663        0.0      -0.601957          77   \n",
       "V18      float64         275663        0.0      -0.438992          77   \n",
       "V19      float64         275663        0.0      -0.330590          77   \n",
       "V20      float64         275663        0.0      -0.180370          77   \n",
       "V21      float64         275663        0.0      -0.262581          77   \n",
       "V22      float64         275663        0.0      -0.816264          77   \n",
       "V23      float64         275663        0.0       0.020675          77   \n",
       "V24      float64         275663        0.0       0.357827          77   \n",
       "V25      float64         275663        0.0       0.186423          77   \n",
       "V26      float64         275663        0.0      -0.398828          77   \n",
       "V27      float64         275663        0.0      -0.035866          77   \n",
       "V28      float64         275663        0.0      -0.060282          77   \n",
       "Amount   float64          32767        0.0       1.000000       13688   \n",
       "Class      int64              2        0.0       0.000000      284315   \n",
       "\n",
       "           % Mode          mean           std         min           25%  \\\n",
       "Time    0.0126401  9.481386e+04  47488.145955    0.000000  54201.500000   \n",
       "V1      0.0270359  3.919560e-15      1.958696  -56.407510     -0.920373   \n",
       "V2      0.0270359  5.688174e-16      1.651309  -72.715728     -0.598550   \n",
       "V3      0.0270359 -8.769071e-15      1.516255  -48.325589     -0.890365   \n",
       "V4      0.0270359  2.782312e-15      1.415869   -5.683171     -0.848640   \n",
       "V5      0.0270359 -1.552563e-15      1.380247 -113.743307     -0.691597   \n",
       "V6      0.0270359  2.010663e-15      1.332271  -26.160506     -0.768296   \n",
       "V7      0.0270359 -1.694249e-15      1.237094  -43.557242     -0.554076   \n",
       "V8      0.0270359 -1.927028e-16      1.194353  -73.216718     -0.208630   \n",
       "V9      0.0270359 -3.137024e-15      1.098632  -13.434066     -0.643098   \n",
       "V10     0.0270359  1.768627e-15      1.088850  -24.588262     -0.535426   \n",
       "V11     0.0270359  9.170318e-16      1.020713   -4.797473     -0.762494   \n",
       "V12     0.0270359 -1.810658e-15      0.999201  -18.683715     -0.405571   \n",
       "V13     0.0270359  1.693438e-15      0.995274   -5.791881     -0.648539   \n",
       "V14     0.0270359  1.479045e-15      0.958596  -19.214325     -0.425574   \n",
       "V15     0.0270359  3.482336e-15      0.915316   -4.498945     -0.582884   \n",
       "V16     0.0270359  1.392007e-15      0.876253  -14.129855     -0.468037   \n",
       "V17     0.0270359 -7.528491e-16      0.849337  -25.162799     -0.483748   \n",
       "V18     0.0270359  4.328772e-16      0.838176   -9.498746     -0.498850   \n",
       "V19     0.0270359  9.049732e-16      0.814041   -7.213527     -0.456299   \n",
       "V20     0.0270359  5.085503e-16      0.770925  -54.497720     -0.211721   \n",
       "V21     0.0270359  1.537294e-16      0.734524  -34.830382     -0.228395   \n",
       "V22     0.0270359  7.959909e-16      0.725702  -10.933144     -0.542350   \n",
       "V23     0.0270359  5.367590e-16      0.624460  -44.807735     -0.161846   \n",
       "V24     0.0270359  4.458112e-15      0.605647   -2.836627     -0.354586   \n",
       "V25     0.0270359  1.453003e-15      0.521278  -10.295397     -0.317145   \n",
       "V26     0.0270359  1.699104e-15      0.482227   -2.604551     -0.326984   \n",
       "V27     0.0270359 -3.660161e-16      0.403632  -22.565679     -0.070840   \n",
       "V28     0.0270359 -1.206049e-16      0.330083  -15.430084     -0.052960   \n",
       "Amount    4.80606  8.834962e+01    250.120109    0.000000      5.600000   \n",
       "Class     99.8273  1.727486e-03      0.041527    0.000000      0.000000   \n",
       "\n",
       "                 50%            75%            max  \n",
       "Time    84692.000000  139320.500000  172792.000000  \n",
       "V1          0.018109       1.315642       2.454930  \n",
       "V2          0.065486       0.803724      22.057729  \n",
       "V3          0.179846       1.027196       9.382558  \n",
       "V4         -0.019847       0.743341      16.875344  \n",
       "V5         -0.054336       0.611926      34.801666  \n",
       "V6         -0.274187       0.398565      73.301626  \n",
       "V7          0.040103       0.570436     120.589494  \n",
       "V8          0.022358       0.327346      20.007208  \n",
       "V9         -0.051429       0.597139      15.594995  \n",
       "V10        -0.092917       0.453923      23.745136  \n",
       "V11        -0.032757       0.739593      12.018913  \n",
       "V12         0.140033       0.618238       7.848392  \n",
       "V13        -0.013568       0.662505       7.126883  \n",
       "V14         0.050601       0.493150      10.526766  \n",
       "V15         0.048072       0.648821       8.877742  \n",
       "V16         0.066413       0.523296      17.315112  \n",
       "V17        -0.065676       0.399675       9.253526  \n",
       "V18        -0.003636       0.500807       5.041069  \n",
       "V19         0.003735       0.458949       5.591971  \n",
       "V20        -0.062481       0.133041      39.420904  \n",
       "V21        -0.029450       0.186377      27.202839  \n",
       "V22         0.006782       0.528554      10.503090  \n",
       "V23        -0.011193       0.147642      22.528412  \n",
       "V24         0.040976       0.439527       4.584549  \n",
       "V25         0.016594       0.350716       7.519589  \n",
       "V26        -0.052139       0.240952       3.517346  \n",
       "V27         0.001342       0.091045      31.612198  \n",
       "V28         0.011244       0.078280      33.847808  \n",
       "Amount     22.000000      77.165000   25691.160000  \n",
       "Class       0.000000       0.000000       1.000000  "
      ]
     },
     "execution_count": 9,
     "metadata": {},
     "output_type": "execute_result"
    }
   ],
   "source": [
    "de.describe(df_origin)"
   ]
  },
  {
   "cell_type": "code",
   "execution_count": 10,
   "metadata": {},
   "outputs": [],
   "source": [
    "\n",
    "# df = df_origin.apply(lambda x: abs(x+2)**0.5)\n",
    "df = df_origin\n",
    "data = df.values[:, 1:]\n",
    "test = data[(data[:, -1] == 1)]\n",
    "data = data[(data[:, -1] == 0)]\n",
    "data = data[:, :-1]\n",
    "test = test[:, :-1]"
   ]
  },
  {
   "cell_type": "code",
   "execution_count": 11,
   "metadata": {},
   "outputs": [],
   "source": [
    "data_max = np.max(data, axis=0)\n",
    "data_min = np.min(data, axis=0) + 1e-6"
   ]
  },
  {
   "cell_type": "code",
   "execution_count": 12,
   "metadata": {},
   "outputs": [],
   "source": [
    "# 数据归一化\n",
    "data = (data - data_min) / (data_max - data_min)\n",
    "test = (test - data_min) / (data_max - data_min)"
   ]
  },
  {
   "cell_type": "code",
   "execution_count": 32,
   "metadata": {},
   "outputs": [],
   "source": [
    "def sampling(args):\n",
    "    z_mean, z_log_var = args\n",
    "    epsilon = K.random_normal(shape=(K.shape(z_mean)[0], data.shape[1]))\n",
    "    return z_mean + K.exp(z_log_var / 2) * epsilon"
   ]
  },
  {
   "cell_type": "code",
   "execution_count": 14,
   "metadata": {},
   "outputs": [
    {
     "name": "stdout",
     "output_type": "stream",
     "text": [
      "WARNING:tensorflow:From /Users/luoyonggui/anaconda3/lib/python3.7/site-packages/tensorflow/python/ops/resource_variable_ops.py:435: colocate_with (from tensorflow.python.framework.ops) is deprecated and will be removed in a future version.\n",
      "Instructions for updating:\n",
      "Colocations handled automatically by placer.\n"
     ]
    }
   ],
   "source": [
    "inputs = keras.Input(shape=(data.shape[1],))\n",
    "out = keras.layers.Dense(10, activation='relu')(inputs)\n",
    "\n",
    "z_mean_layer = keras.layers.Dense(data.shape[1])\n",
    "z_log_var_layer = keras.layers.Dense(data.shape[1])\n",
    "\n",
    "z_mean = z_mean_layer(out)\n",
    "z_log_var = z_log_var_layer(out)\n",
    "\n",
    "z = keras.layers.Lambda(sampling)([z_mean, z_log_var])\n",
    "\n",
    "mean_decoded = keras.layers.Dense(data.shape[1], activation='relu')(z)\n",
    "\n",
    "vae = keras.Model(inputs, mean_decoded)\n",
    "\n",
    "generate = keras.Model(inputs, [z_mean, z_log_var])"
   ]
  },
  {
   "cell_type": "code",
   "execution_count": 15,
   "metadata": {},
   "outputs": [
    {
     "name": "stdout",
     "output_type": "stream",
     "text": [
      "__________________________________________________________________________________________________\n",
      "Layer (type)                    Output Shape         Param #     Connected to                     \n",
      "==================================================================================================\n",
      "input_1 (InputLayer)            (None, 29)           0                                            \n",
      "__________________________________________________________________________________________________\n",
      "dense (Dense)                   (None, 10)           300         input_1[0][0]                    \n",
      "__________________________________________________________________________________________________\n",
      "dense_1 (Dense)                 (None, 29)           319         dense[0][0]                      \n",
      "__________________________________________________________________________________________________\n",
      "dense_2 (Dense)                 (None, 29)           319         dense[0][0]                      \n",
      "==================================================================================================\n",
      "Total params: 938\n",
      "Trainable params: 938\n",
      "Non-trainable params: 0\n",
      "__________________________________________________________________________________________________\n"
     ]
    }
   ],
   "source": [
    "generate.summary()"
   ]
  },
  {
   "cell_type": "code",
   "execution_count": 16,
   "metadata": {},
   "outputs": [],
   "source": [
    "xent_loss = data.shape[1] * keras.losses.MSE(K.reshape(inputs, (-1, data.shape[1])), mean_decoded)\n",
    "kl_loss = - 0.5 * K.sum(1 + z_log_var - K.square(z_mean) - K.exp(z_log_var), axis=-1)\n",
    "vae_loss = K.mean(xent_loss + kl_loss)\n",
    "\n",
    "vae.add_loss(vae_loss)"
   ]
  },
  {
   "cell_type": "code",
   "execution_count": 17,
   "metadata": {},
   "outputs": [
    {
     "name": "stdout",
     "output_type": "stream",
     "text": [
      "WARNING:tensorflow:Output \"dense_3\" missing from loss dictionary. We assume this was done on purpose. The fit and evaluate APIs will not be expecting any data to be passed to \"dense_3\".\n"
     ]
    }
   ],
   "source": [
    "vae.compile('adam')"
   ]
  },
  {
   "cell_type": "code",
   "execution_count": 40,
   "metadata": {},
   "outputs": [
    {
     "name": "stdout",
     "output_type": "stream",
     "text": [
      "Epoch 1/10\n",
      "284315/284315 [==============================] - 1s 4us/sample - loss: 0.0567\n",
      "Epoch 2/10\n",
      "284315/284315 [==============================] - 1s 4us/sample - loss: 0.0565\n",
      "Epoch 3/10\n",
      "284315/284315 [==============================] - 1s 3us/sample - loss: 0.0564\n",
      "Epoch 4/10\n",
      "284315/284315 [==============================] - 1s 3us/sample - loss: 0.0562 0s -\n",
      "Epoch 5/10\n",
      "284315/284315 [==============================] - 1s 3us/sample - loss: 0.0561\n",
      "Epoch 6/10\n",
      "284315/284315 [==============================] - 1s 3us/sample - loss: 0.0560\n",
      "Epoch 7/10\n",
      "284315/284315 [==============================] - 1s 4us/sample - loss: 0.0559\n",
      "Epoch 8/10\n",
      "284315/284315 [==============================] - 1s 4us/sample - loss: 0.0558\n",
      "Epoch 9/10\n",
      "284315/284315 [==============================] - 1s 4us/sample - loss: 0.0558\n",
      "Epoch 10/10\n",
      "284315/284315 [==============================] - 1s 4us/sample - loss: 0.0557\n"
     ]
    },
    {
     "data": {
      "text/plain": [
       "<tensorflow.python.keras.callbacks.History at 0x1397c1cf8>"
      ]
     },
     "execution_count": 40,
     "metadata": {},
     "output_type": "execute_result"
    }
   ],
   "source": [
    "vae.fit(data, shuffle=True, epochs=10, batch_size=512)"
   ]
  },
  {
   "cell_type": "markdown",
   "metadata": {},
   "source": [
    "# 生成模型"
   ]
  },
  {
   "cell_type": "code",
   "execution_count": 90,
   "metadata": {},
   "outputs": [],
   "source": [
    "def caculate(x, x_hat):\n",
    "#     result = 1 - np.mean(np.square((np.reshape(x, (data.shape[1],)) - x_hat)**2))\n",
    "#     result = np.dot(x.flatten(), x_hat.flatten()) / (np.linalg.norm(x.flatten())*np.linalg.norm(x_hat.flatten()))\n",
    "    p = []\n",
    "    for i in range(len(x)):\n",
    "        p.append(x[i].dot(x_hat[i])/(np.linalg.norm(x[i])*np.linalg.norm(x_hat[i])))\n",
    "#     mean_by_z, _ = generate.predict(x)\n",
    "#     mean_by_x, _ = generate.predict(x_hat)\n",
    "#     p = 1 - np.mean((mean_by_z - mean_by_x)**2, axis=1)**0.5\n",
    "#     print(p)\n",
    "    return np.array(p)"
   ]
  },
  {
   "cell_type": "markdown",
   "metadata": {},
   "source": [
    "\n",
    "# 正样本"
   ]
  },
  {
   "cell_type": "code",
   "execution_count": 42,
   "metadata": {},
   "outputs": [
    {
     "data": {
      "text/plain": [
       "array([[0.93521702, 0.77905459, 0.86814082, 0.26876547, 0.76232878,\n",
       "        0.28112211, 0.2136886 , 0.79916907, 0.21822788, 0.38841782,\n",
       "        0.36635794, 0.66154134, 0.50385419, 0.63025122, 0.50773584,\n",
       "        0.26340865, 0.69096971, 0.50398123, 0.38668308, 0.58585504,\n",
       "        0.61063999, 0.54602981, 0.67893916, 0.28935377, 0.55951517,\n",
       "        0.40272708, 0.41548926, 0.3119113 , 0.01473892]])"
      ]
     },
     "execution_count": 42,
     "metadata": {},
     "output_type": "execute_result"
    }
   ],
   "source": [
    "origin = data[2:3]\n",
    "origin"
   ]
  },
  {
   "cell_type": "code",
   "execution_count": 43,
   "metadata": {},
   "outputs": [
    {
     "data": {
      "text/plain": [
       "array([0.95700455, 0.79844517, 0.83551496, 0.25606352, 0.7645944 ,\n",
       "       0.25666487, 0.20648107, 0.8004253 , 0.29565454, 0.39258087,\n",
       "       0.32134306, 0.65553325, 0.4421999 , 0.6386863 , 0.3378005 ,\n",
       "       0.3771497 , 0.6488419 , 0.5285195 , 0.5597626 , 0.57969683,\n",
       "       0.60710305, 0.5085343 , 0.6636669 , 0.3612535 , 0.58134   ,\n",
       "       0.43882754, 0.4127423 , 0.3128984 , 0.        ], dtype=float32)"
      ]
     },
     "execution_count": 43,
     "metadata": {},
     "output_type": "execute_result"
    }
   ],
   "source": [
    "result = vae.predict(origin)[0]\n",
    "result"
   ]
  },
  {
   "cell_type": "markdown",
   "metadata": {},
   "source": [
    "## 有正常样本生成的样本也是和原样本的余弦相似度很高"
   ]
  },
  {
   "cell_type": "code",
   "execution_count": 44,
   "metadata": {},
   "outputs": [
    {
     "data": {
      "text/plain": [
       "0.9943295940518977"
      ]
     },
     "execution_count": 44,
     "metadata": {},
     "output_type": "execute_result"
    }
   ],
   "source": [
    "result = np.dot(origin.flatten(), result.flatten()) / (np.linalg.norm(origin.flatten())*np.linalg.norm(result.flatten()))\n",
    "result"
   ]
  },
  {
   "cell_type": "markdown",
   "metadata": {},
   "source": [
    "# 负样本"
   ]
  },
  {
   "cell_type": "code",
   "execution_count": 45,
   "metadata": {},
   "outputs": [
    {
     "name": "stdout",
     "output_type": "stream",
     "text": [
      "0.9870190949627414\n"
     ]
    }
   ],
   "source": [
    "origin = test[2:3]\n",
    "result = vae.predict(origin)[0]\n",
    "result = np.dot(origin.flatten(), result.flatten()) / (np.linalg.norm(origin.flatten())*np.linalg.norm(result.flatten()))\n",
    "print(result)"
   ]
  },
  {
   "cell_type": "code",
   "execution_count": 91,
   "metadata": {},
   "outputs": [
    {
     "data": {
      "text/plain": [
       "array([0.99402755])"
      ]
     },
     "execution_count": 91,
     "metadata": {},
     "output_type": "execute_result"
    }
   ],
   "source": [
    "origin = data[2:3]\n",
    "result = vae.predict(origin)\n",
    "caculate(origin, result)"
   ]
  },
  {
   "cell_type": "code",
   "execution_count": 92,
   "metadata": {},
   "outputs": [
    {
     "data": {
      "text/plain": [
       "array([0.98716883])"
      ]
     },
     "execution_count": 92,
     "metadata": {},
     "output_type": "execute_result"
    }
   ],
   "source": [
    "origin = test[2:3]\n",
    "result = vae.predict(origin)\n",
    "caculate(origin, result)"
   ]
  },
  {
   "cell_type": "code",
   "execution_count": 125,
   "metadata": {},
   "outputs": [],
   "source": [
    "epslion = 0.974"
   ]
  },
  {
   "cell_type": "markdown",
   "metadata": {},
   "source": [
    "# 统计结果"
   ]
  },
  {
   "cell_type": "code",
   "execution_count": 126,
   "metadata": {},
   "outputs": [],
   "source": [
    "pre = vae.predict(data)\n",
    "\n",
    "result = caculate(data, pre)\n",
    "result = result < epslion\n",
    "\n",
    "pre = vae.predict(test)\n",
    "anomaly_result = caculate(test, pre)\n",
    "anomaly_result = anomaly_result < epslion\n"
   ]
  },
  {
   "cell_type": "code",
   "execution_count": 127,
   "metadata": {},
   "outputs": [],
   "source": [
    "from sklearn.metrics import classification_report"
   ]
  },
  {
   "cell_type": "code",
   "execution_count": 128,
   "metadata": {},
   "outputs": [
    {
     "name": "stdout",
     "output_type": "stream",
     "text": [
      "              precision    recall  f1-score   support\n",
      "\n",
      "           0       1.00      1.00      1.00    284315\n",
      "           1       0.46      0.49      0.48       492\n",
      "\n",
      "   micro avg       1.00      1.00      1.00    284807\n",
      "   macro avg       0.73      0.75      0.74    284807\n",
      "weighted avg       1.00      1.00      1.00    284807\n",
      "\n"
     ]
    }
   ],
   "source": [
    "# epslion = 0.974\n",
    "print(classification_report([0]*len(result)+[1]*len(anomaly_result), list(map(int, list(result)+list(anomaly_result)))))"
   ]
  },
  {
   "cell_type": "code",
   "execution_count": 124,
   "metadata": {},
   "outputs": [
    {
     "name": "stdout",
     "output_type": "stream",
     "text": [
      "              precision    recall  f1-score   support\n",
      "\n",
      "           0       1.00      1.00      1.00    284315\n",
      "           1       0.53      0.45      0.48       492\n",
      "\n",
      "   micro avg       1.00      1.00      1.00    284807\n",
      "   macro avg       0.76      0.72      0.74    284807\n",
      "weighted avg       1.00      1.00      1.00    284807\n",
      "\n"
     ]
    }
   ],
   "source": [
    "# epslion = 0.97\n",
    "print(classification_report([0]*len(result)+[1]*len(anomaly_result), list(map(int, list(result)+list(anomaly_result)))))"
   ]
  },
  {
   "cell_type": "code",
   "execution_count": 120,
   "metadata": {},
   "outputs": [
    {
     "name": "stdout",
     "output_type": "stream",
     "text": [
      "              precision    recall  f1-score   support\n",
      "\n",
      "           0       1.00      1.00      1.00    284315\n",
      "           1       0.35      0.59      0.44       492\n",
      "\n",
      "   micro avg       1.00      1.00      1.00    284807\n",
      "   macro avg       0.68      0.79      0.72    284807\n",
      "weighted avg       1.00      1.00      1.00    284807\n",
      "\n"
     ]
    }
   ],
   "source": [
    "# epslion = 0.98\n",
    "print(classification_report([0]*len(result)+[1]*len(anomaly_result), list(map(int, list(result)+list(anomaly_result)))))"
   ]
  },
  {
   "cell_type": "code",
   "execution_count": 116,
   "metadata": {},
   "outputs": [
    {
     "name": "stdout",
     "output_type": "stream",
     "text": [
      "              precision    recall  f1-score   support\n",
      "\n",
      "           0       1.00      1.00      1.00    284315\n",
      "           1       0.32      0.61      0.42       492\n",
      "\n",
      "   micro avg       1.00      1.00      1.00    284807\n",
      "   macro avg       0.66      0.80      0.71    284807\n",
      "weighted avg       1.00      1.00      1.00    284807\n",
      "\n"
     ]
    }
   ],
   "source": [
    "# epslion = 0.982\n",
    "print(classification_report([0]*len(result)+[1]*len(anomaly_result), list(map(int, list(result)+list(anomaly_result)))))"
   ]
  },
  {
   "cell_type": "code",
   "execution_count": 112,
   "metadata": {},
   "outputs": [
    {
     "name": "stdout",
     "output_type": "stream",
     "text": [
      "              precision    recall  f1-score   support\n",
      "\n",
      "           0       1.00      1.00      1.00    284315\n",
      "           1       0.28      0.62      0.38       492\n",
      "\n",
      "   micro avg       1.00      1.00      1.00    284807\n",
      "   macro avg       0.64      0.81      0.69    284807\n",
      "weighted avg       1.00      1.00      1.00    284807\n",
      "\n"
     ]
    }
   ],
   "source": [
    "# epslion = 0.984\n",
    "print(classification_report([0]*len(result)+[1]*len(anomaly_result), list(map(int, list(result)+list(anomaly_result)))))"
   ]
  },
  {
   "cell_type": "code",
   "execution_count": 108,
   "metadata": {},
   "outputs": [
    {
     "name": "stdout",
     "output_type": "stream",
     "text": [
      "              precision    recall  f1-score   support\n",
      "\n",
      "           0       1.00      1.00      1.00    284315\n",
      "           1       0.22      0.66      0.33       492\n",
      "\n",
      "   micro avg       1.00      1.00      1.00    284807\n",
      "   macro avg       0.61      0.83      0.67    284807\n",
      "weighted avg       1.00      1.00      1.00    284807\n",
      "\n"
     ]
    }
   ],
   "source": [
    "# epslion = 0.986\n",
    "print(classification_report([0]*len(result)+[1]*len(anomaly_result), list(map(int, list(result)+list(anomaly_result)))))"
   ]
  },
  {
   "cell_type": "code",
   "execution_count": 104,
   "metadata": {},
   "outputs": [
    {
     "name": "stdout",
     "output_type": "stream",
     "text": [
      "              precision    recall  f1-score   support\n",
      "\n",
      "           0       1.00      0.99      0.99    284315\n",
      "           1       0.11      0.79      0.20       492\n",
      "\n",
      "   micro avg       0.99      0.99      0.99    284807\n",
      "   macro avg       0.56      0.89      0.60    284807\n",
      "weighted avg       1.00      0.99      0.99    284807\n",
      "\n"
     ]
    }
   ],
   "source": [
    "# epslion = 0.99\n",
    "print(classification_report([0]*len(result)+[1]*len(anomaly_result), list(map(int, list(result)+list(anomaly_result)))))"
   ]
  },
  {
   "cell_type": "code",
   "execution_count": 100,
   "metadata": {},
   "outputs": [
    {
     "name": "stdout",
     "output_type": "stream",
     "text": [
      "              precision    recall  f1-score   support\n",
      "\n",
      "           0       1.00      0.99      1.00    284315\n",
      "           1       0.14      0.77      0.24       492\n",
      "\n",
      "   micro avg       0.99      0.99      0.99    284807\n",
      "   macro avg       0.57      0.88      0.62    284807\n",
      "weighted avg       1.00      0.99      0.99    284807\n",
      "\n"
     ]
    }
   ],
   "source": [
    "# epslion = 0.989\n",
    "print(classification_report([0]*len(result)+[1]*len(anomaly_result), list(map(int, list(result)+list(anomaly_result)))))"
   ]
  },
  {
   "cell_type": "code",
   "execution_count": 96,
   "metadata": {},
   "outputs": [
    {
     "name": "stdout",
     "output_type": "stream",
     "text": [
      "              precision    recall  f1-score   support\n",
      "\n",
      "           0       1.00      0.99      1.00    284315\n",
      "           1       0.17      0.73      0.28       492\n",
      "\n",
      "   micro avg       0.99      0.99      0.99    284807\n",
      "   macro avg       0.58      0.86      0.64    284807\n",
      "weighted avg       1.00      0.99      1.00    284807\n",
      "\n"
     ]
    }
   ],
   "source": [
    "# epslion = 0.988\n",
    "print(classification_report([0]*len(result)+[1]*len(anomaly_result), list(map(int, list(result)+list(anomaly_result)))))"
   ]
  },
  {
   "cell_type": "code",
   "execution_count": 76,
   "metadata": {},
   "outputs": [
    {
     "name": "stdout",
     "output_type": "stream",
     "text": [
      "              precision    recall  f1-score   support\n",
      "\n",
      "           0       1.00      0.97      0.99    284315\n",
      "           1       0.05      0.82      0.09       492\n",
      "\n",
      "   micro avg       0.97      0.97      0.97    284807\n",
      "   macro avg       0.52      0.89      0.54    284807\n",
      "weighted avg       1.00      0.97      0.98    284807\n",
      "\n"
     ]
    }
   ],
   "source": [
    "# epslion = 0.994\n",
    "print(classification_report([0]*len(result)+[1]*len(anomaly_result), list(map(int, list(result)+list(anomaly_result)))))"
   ]
  },
  {
   "cell_type": "code",
   "execution_count": 73,
   "metadata": {},
   "outputs": [
    {
     "name": "stdout",
     "output_type": "stream",
     "text": [
      "              precision    recall  f1-score   support\n",
      "\n",
      "           0       1.00      0.99      1.00    284315\n",
      "           1       0.16      0.68      0.26       492\n",
      "\n",
      "   micro avg       0.99      0.99      0.99    284807\n",
      "   macro avg       0.58      0.84      0.63    284807\n",
      "weighted avg       1.00      0.99      1.00    284807\n",
      "\n"
     ]
    }
   ],
   "source": [
    "# epslion = 0.991\n",
    "print(classification_report([0]*len(result)+[1]*len(anomaly_result), list(map(int, list(result)+list(anomaly_result)))))"
   ]
  },
  {
   "cell_type": "code",
   "execution_count": 66,
   "metadata": {},
   "outputs": [
    {
     "name": "stdout",
     "output_type": "stream",
     "text": [
      "              precision    recall  f1-score   support\n",
      "\n",
      "           0       1.00      1.00      1.00    284315\n",
      "           1       0.23      0.62      0.34       492\n",
      "\n",
      "   micro avg       1.00      1.00      1.00    284807\n",
      "   macro avg       0.62      0.81      0.67    284807\n",
      "weighted avg       1.00      1.00      1.00    284807\n",
      "\n"
     ]
    }
   ],
   "source": [
    "# epslion = 0.993\n",
    "print(classification_report([0]*len(result)+[1]*len(anomaly_result), list(map(int, list(result)+list(anomaly_result)))))"
   ]
  }
 ],
 "metadata": {
  "kernelspec": {
   "display_name": "Python 3",
   "language": "python",
   "name": "python3"
  },
  "language_info": {
   "codemirror_mode": {
    "name": "ipython",
    "version": 3
   },
   "file_extension": ".py",
   "mimetype": "text/x-python",
   "name": "python",
   "nbconvert_exporter": "python",
   "pygments_lexer": "ipython3",
   "version": "3.7.3"
  },
  "toc": {
   "base_numbering": 1,
   "nav_menu": {},
   "number_sections": true,
   "sideBar": true,
   "skip_h1_title": false,
   "title_cell": "Table of Contents",
   "title_sidebar": "Contents",
   "toc_cell": false,
   "toc_position": {},
   "toc_section_display": true,
   "toc_window_display": false
  }
 },
 "nbformat": 4,
 "nbformat_minor": 2
}

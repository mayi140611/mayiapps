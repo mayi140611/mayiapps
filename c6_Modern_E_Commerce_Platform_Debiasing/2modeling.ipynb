{
 "cells": [
  {
   "cell_type": "markdown",
   "metadata": {},
   "source": [
    "# item_cf"
   ]
  },
  {
   "cell_type": "code",
   "execution_count": 78,
   "metadata": {},
   "outputs": [
    {
     "name": "stdout",
     "output_type": "stream",
     "text": [
      "gen train_data_matrix begin...\n",
      "cal cosine_similarity begin...\n",
      "cal cosine_similarity end\n",
      "100%|████████████████████████████████████| 27195/27195 [00:45<00:00, 600.60it/s]\n",
      "935.4970018863678s\n",
      "complete!!!\n"
     ]
    }
   ],
   "source": [
    "!python baseline0_itemCF.py"
   ]
  },
  {
   "cell_type": "markdown",
   "metadata": {},
   "source": [
    "# A simple itemCF Baseline, score:0.0767"
   ]
  },
  {
   "cell_type": "code",
   "execution_count": 6,
   "metadata": {},
   "outputs": [
    {
     "name": "stdout",
     "output_type": "stream",
     "text": [
      "phase: 0\n",
      "phase: 1\n",
      "100%|███████████████████████████████████| 21457/21457 [00:08<00:00, 2657.97it/s]\n",
      "100%|██████████████████████████████████| 51914/51914 [00:04<00:00, 12722.11it/s]\n",
      "100%|██████████████████████████████████████| 3389/3389 [00:12<00:00, 262.74it/s]\n",
      "27.01650309562683s\n",
      "complete!!!\n"
     ]
    }
   ],
   "source": [
    "!python baseline1_itemCF.py"
   ]
  },
  {
   "cell_type": "code",
   "execution_count": 1,
   "metadata": {},
   "outputs": [],
   "source": [
    "#!/usr/bin/env python  \n",
    "# -*- coding:utf-8 -*-  \n",
    "  \n",
    "import pandas as pd  \n",
    "from tqdm import tqdm  \n",
    "from collections import defaultdict  \n",
    "import math  \n",
    "  \n",
    "def get_sim_item(df, user_col, item_col, use_iif=False):  \n",
    "    user_item_ = df.groupby(user_col)[item_col].agg(set).reset_index()  \n",
    "    user_item_dict = dict(zip(user_item_[user_col], user_item_[item_col]))  \n",
    "  \n",
    "    sim_item = {}  # sim_item[i][j] 表示item_i和item_j共现的次数\n",
    "    item_cnt = defaultdict(int)  # 统计某个item有多少个user购买过\n",
    "    for user, items in tqdm(user_item_dict.items()):  \n",
    "        for i in items:  \n",
    "            item_cnt[i] += 1  \n",
    "            sim_item.setdefault(i, {})  \n",
    "            for relate_item in items:  \n",
    "                if i == relate_item:  \n",
    "                    continue  \n",
    "                sim_item[i].setdefault(relate_item, 0)  \n",
    "                if not use_iif:  \n",
    "                    sim_item[i][relate_item] += 1  \n",
    "                else:  \n",
    "                    sim_item[i][relate_item] += 1 / math.log(1 + len(items))  \n",
    "    \n",
    "    sim_item_corr = sim_item.copy()  \n",
    "    for i, related_items in tqdm(sim_item.items()):  \n",
    "        for j, cij in related_items.items():  \n",
    "            # item_i和item_j共现的次数/各自出现的次数之积\n",
    "            sim_item_corr[i][j] = cij/math.sqrt(item_cnt[i]*item_cnt[j])  \n",
    "  \n",
    "    return sim_item_corr, user_item_dict  \n",
    "  \n",
    "\n",
    "def recommend(sim_item_corr, user_item_dict, user_id, top_k, item_num):  \n",
    "    \"\"\"\n",
    "    向user_id推荐item_num个该user_id没有买过的item\n",
    "    \"\"\"\n",
    "    rank = {}  \n",
    "    # 该user_id购买过的items\n",
    "    interacted_items = user_item_dict[user_id]  \n",
    "    # 遍历该user购买过的items，\n",
    "    for i in interacted_items:  \n",
    "        # 遍历该item共现最高的top_k个item，把其中用户没有买过的加入推荐列表\n",
    "#         for j, wij in sorted(sim_item_corr[i].items(), reverse=True)[:top_k]:  \n",
    "        for j, wij in sorted(sim_item_corr[i].items(), key=lambda d: d[1], reverse=True)[:top_k]:  \n",
    "            if j not in interacted_items:  \n",
    "                rank.setdefault(j, 0)  \n",
    "                rank[j] += wij  \n",
    "    return sorted(rank.items(), key=lambda d: d[1], reverse=True)[:item_num]  \n",
    "  \n",
    "def get_predict(df, pred_col, top_fill):  \n",
    "    \"\"\"\n",
    "    fill user to 50 items\n",
    "    逻辑就是如果推荐给用户的items少于50个，就用点击数最高的item补足\n",
    "    \"\"\"\n",
    "    top_fill = [int(t) for t in top_fill.split(',')]  \n",
    "    scores = [-1 * i for i in range(1, len(top_fill) + 1)]  \n",
    "    ids = list(df['user_id'].unique())  \n",
    "    fill_df = pd.DataFrame(ids * len(top_fill), columns=['user_id'])  \n",
    "    fill_df.sort_values('user_id', inplace=True)  \n",
    "    fill_df['item_id'] = top_fill * len(ids)  \n",
    "    fill_df[pred_col] = scores * len(ids)  \n",
    "    df = df.append(fill_df)  \n",
    "    df.sort_values(pred_col, ascending=False, inplace=True)  \n",
    "    df = df.drop_duplicates(subset=['user_id', 'item_id'], keep='first')  \n",
    "    df['rank'] = df.groupby('user_id')[pred_col].rank(method='first', ascending=False)  \n",
    "    df = df[df['rank'] <= 50]  \n",
    "    df = df.groupby('user_id')['item_id'].apply(lambda x: ','.join([str(i) for i in x])).str.split(',', expand=True).reset_index()  \n",
    "    return df  "
   ]
  },
  {
   "cell_type": "code",
   "execution_count": 2,
   "metadata": {
    "scrolled": true
   },
   "outputs": [
    {
     "name": "stdout",
     "output_type": "stream",
     "text": [
      "phase: 0\n",
      "phase: 1\n"
     ]
    },
    {
     "name": "stderr",
     "output_type": "stream",
     "text": [
      "100%|██████████| 21457/21457 [00:07<00:00, 2923.64it/s]\n",
      "100%|██████████| 51914/51914 [00:04<00:00, 12385.08it/s]\n",
      "100%|██████████| 3389/3389 [00:12<00:00, 264.52it/s]\n"
     ]
    }
   ],
   "source": [
    "now_phase = 1  \n",
    "train_path = './data_origin/underexpose_train'  \n",
    "test_path = './data_origin/underexpose_test'  \n",
    "recom_item = []  \n",
    "\n",
    "whole_click = pd.DataFrame()  \n",
    "click_test = pd.DataFrame()  \n",
    "for c in range(now_phase + 1):  \n",
    "    print('phase:', c)  \n",
    "    click_train = pd.read_csv(train_path + '/underexpose_train_click-{}.csv'.format(c), header=None,  names=['user_id', 'item_id', 'time'])  \n",
    "    click_test1 = pd.read_csv(test_path + '/underexpose_test_click-{}/underexpose_test_click-{}.csv'.format(c, c), header=None,  names=['user_id', 'item_id', 'time'])  \n",
    "\n",
    "    all_click = click_train.append(click_test1)  \n",
    "    click_test = click_test.append(click_test1) \n",
    "    whole_click = whole_click.append(all_click)  \n",
    "    \n",
    "item_sim_list, user_item = get_sim_item(whole_click, 'user_id', 'item_id', use_iif=True)  \n",
    "\n",
    "for i in tqdm(click_test['user_id'].unique()):  \n",
    "    rank_item = recommend(item_sim_list, user_item, i, 500, 50)  \n",
    "    for j in rank_item:  \n",
    "        recom_item.append([i, j[0], j[1]])  \n",
    "# find most popular items  \n",
    "top50_click = whole_click['item_id'].value_counts().index[:50].values  \n",
    "top50_click = ','.join([str(i) for i in top50_click])  \n",
    "\n",
    "recom_df = pd.DataFrame(recom_item, columns=['user_id', 'item_id', 'sim'])  \n",
    "result = get_predict(recom_df, 'sim', top50_click)  \n",
    "result.to_csv('baseline.csv', index=False, header=None)"
   ]
  },
  {
   "cell_type": "code",
   "execution_count": null,
   "metadata": {},
   "outputs": [],
   "source": []
  }
 ],
 "metadata": {
  "kernelspec": {
   "display_name": "Python 3",
   "language": "python",
   "name": "python3"
  },
  "language_info": {
   "codemirror_mode": {
    "name": "ipython",
    "version": 3
   },
   "file_extension": ".py",
   "mimetype": "text/x-python",
   "name": "python",
   "nbconvert_exporter": "python",
   "pygments_lexer": "ipython3",
   "version": "3.7.3"
  },
  "toc": {
   "base_numbering": 1,
   "nav_menu": {},
   "number_sections": true,
   "sideBar": true,
   "skip_h1_title": false,
   "title_cell": "Table of Contents",
   "title_sidebar": "Contents",
   "toc_cell": false,
   "toc_position": {},
   "toc_section_display": true,
   "toc_window_display": true
  }
 },
 "nbformat": 4,
 "nbformat_minor": 2
}

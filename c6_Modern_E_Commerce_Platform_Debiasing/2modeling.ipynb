{
 "cells": [
  {
   "cell_type": "markdown",
   "metadata": {},
   "source": [
    "# item_cf"
   ]
  },
  {
   "cell_type": "code",
   "execution_count": 78,
   "metadata": {},
   "outputs": [
    {
     "name": "stdout",
     "output_type": "stream",
     "text": [
      "gen train_data_matrix begin...\n",
      "cal cosine_similarity begin...\n",
      "cal cosine_similarity end\n",
      "100%|████████████████████████████████████| 27195/27195 [00:45<00:00, 600.60it/s]\n",
      "935.4970018863678s\n",
      "complete!!!\n"
     ]
    }
   ],
   "source": [
    "!python baseline0_itemCF.py"
   ]
  },
  {
   "cell_type": "code",
   "execution_count": 79,
   "metadata": {},
   "outputs": [],
   "source": [
    "import time\n",
    "import numpy as np\n",
    "import pandas as pd\n",
    "from sklearn.metrics.pairwise import cosine_similarity\n",
    "\n",
    "pd.set_option('display.max_rows', 200)\n",
    "pd.set_option('display.max_columns', 100)  # 设置显示数据的最大列数，防止出现省略号…，导致数据显示不全\n",
    "pd.set_option('expand_frame_repr', False)  # 当列太多时不自动换行\n",
    "\n",
    "t0 = time.time()\n",
    "\n",
    "path = './data_origin/'\n",
    "\n",
    "train_click_0_df = pd.read_csv(path+'underexpose_train/underexpose_train_click-0.csv',names=['user_id','item_id','time'])\n",
    "train_click_1_df = pd.read_csv(path+'underexpose_train/underexpose_train_click-1.csv',names=['user_id','item_id','time'])\n",
    "train_click_df = pd.concat([train_click_0_df, train_click_1_df], ignore_index=True)\n",
    "\n",
    "test_click_0_df = pd.read_csv(path+'underexpose_test/underexpose_test_click-0/underexpose_test_click-0.csv', names=['user_id','item_id','time'])\n",
    "test_click_1_df = pd.read_csv(path+'underexpose_test/underexpose_test_click-1/underexpose_test_click-1.csv', names=['user_id','item_id','time'])\n",
    "\n",
    "test_click_df = pd.concat([test_click_0_df, test_click_1_df], ignore_index=True)\n",
    "\n",
    "click_df = pd.concat([train_click_df, test_click_df], ignore_index=True)"
   ]
  },
  {
   "cell_type": "code",
   "execution_count": 80,
   "metadata": {},
   "outputs": [
    {
     "data": {
      "text/plain": [
       "count    21457.000000\n",
       "mean        24.681782\n",
       "std         23.714898\n",
       "min          2.000000\n",
       "25%          9.000000\n",
       "50%         17.000000\n",
       "75%         32.000000\n",
       "max        293.000000\n",
       "Name: item_id, dtype: float64"
      ]
     },
     "execution_count": 80,
     "metadata": {},
     "output_type": "execute_result"
    }
   ],
   "source": [
    "click_df.groupby('user_id')['item_id'].count().describe()"
   ]
  },
  {
   "cell_type": "code",
   "execution_count": null,
   "metadata": {},
   "outputs": [],
   "source": []
  }
 ],
 "metadata": {
  "kernelspec": {
   "display_name": "Python 3",
   "language": "python",
   "name": "python3"
  },
  "language_info": {
   "codemirror_mode": {
    "name": "ipython",
    "version": 3
   },
   "file_extension": ".py",
   "mimetype": "text/x-python",
   "name": "python",
   "nbconvert_exporter": "python",
   "pygments_lexer": "ipython3",
   "version": "3.7.3"
  },
  "toc": {
   "base_numbering": 1,
   "nav_menu": {},
   "number_sections": true,
   "sideBar": true,
   "skip_h1_title": false,
   "title_cell": "Table of Contents",
   "title_sidebar": "Contents",
   "toc_cell": false,
   "toc_position": {},
   "toc_section_display": true,
   "toc_window_display": false
  }
 },
 "nbformat": 4,
 "nbformat_minor": 2
}

{
 "cells": [
  {
   "cell_type": "markdown",
   "metadata": {},
   "source": [
    "# 赛题说明\n",
    "https://algo.qq.com/index.html?rfisource=DSFISH\n",
    "\n",
    "本届算法大赛的题目来源于一个重要且有趣的问题。\n",
    "\n",
    "众所周知，__像用户年龄和性别这样的人口统计学特征是各类推荐系统的重要输入特征__，其中自然也包括了广告平台。\n",
    "\n",
    "这背后的假设是，__用户对广告的偏好会随着其年龄和性别的不同而有所区别__。许多行业的实践者已经多次验证了这一假设。\n",
    "\n",
    "然而，大多数验证所采用的方式都是以人口统计学属性作为输入来产生推荐结果，然后离线或者在线地对比用与不用这些输入的情况下的推荐性能。\n",
    "\n",
    "本届大赛的题目尝试从另一个方向来验证这个假设，即__以用户在广告系统中的交互行为作为输入来预测用户的人口统计学属性__。\n",
    "\n",
    "\n",
    "我们认为这一赛题的“逆向思考”本身具有其研究价值和趣味性，此外也有实用价值和挑战性。例如，对于缺乏用户信息的实践者来说，基于其自有系统的数据来推断用户属性，可以帮助其在更广的人群上实现智能定向或者受众保护。与此同时，参赛者需要综合运用机器学习领域的各种技术来实现更准确的预估。\n",
    "\n",
    "具体而言，在比赛期间，我们将为参赛者提供一组用户在长度为91天（3个月）的时间窗口内的广告点击历史记录作为训练数据集。每条记录中包含了日期（从1到91）、用户信息（年龄，性别），被点击的广告的信息（素材id、广告id、产品id、产品类目id、广告主id、广告主行业id等），以及该用户当天点击该广告的次数。测试数据集将会是另一组用户的广告点击历史记录。提供给参赛者的测试数据集中不会包含这些用户的年龄和性别信息。\n",
    "\n",
    "本赛题要求参赛者预测测试数据集中出现的用户的年龄和性别，并以约定的格式提交预测结果。大赛官网后台将会自动计算得分并排名。详情参见【评估方式】和【提交方式】。\n",
    "\n",
    "初赛和复赛除了所提供的训练数据集的量级有所不同之外，其他设置均相同\n",
    "\n",
    "## 赛程\n",
    "即日起-5.31 报名\n",
    "\n",
    "5.7-6.22 初赛\n",
    "\n",
    "6.23-7.22 复赛\n",
    "\n",
    "8月 决赛答辩\n",
    "\n",
    "## 数据说明\n",
    "训练数据中包含了一组用户91天的广告点击日志，被组织为三张表，以带标题行的CSV文件的格式提供（编码采用无BOM的UTF-8），分别是：click_log.csv，user.csv，ad.csv。测试数据包含了另一组用户91天的广告点击日志，组织方式与训练数据相同，但不包含user.csv。各表的详细格式描述如下（字段顺序以下面的描述为准，各字段用逗号’,’分隔，中间无空格）：\n",
    "\n",
    "### click_log.csv:\n",
    "* time: 天粒度的时间，整数值，取值范围[1,91]。\n",
    "* user_id:从1到N随机编号生成的不重复的加密的用户id，其中N为用户总数目（训练集和测试集）。\n",
    "* creative_id:用户点击的广告素材的id，采用类似于user_id的方式生成。\n",
    "* click_times: 当天该用户点击该广告素材的次数\n",
    "\n",
    "### user.csv:\n",
    "* user_id\n",
    "* age: 分段表示的用户年龄，取值范围[1-10]。\n",
    "* gender：用户性别，取值范围[1,2]\n",
    "### ad.csv:\n",
    "* creative_id\n",
    "* ad_id:该素材所归属的广告的id，采用类似于user_id的方式生成。每个广告可能包含多个可展示的素材。\n",
    "* product_id:该广告中所宣传的产品的id，采用类似于user_id的方式生成。\n",
    "* product_category: 该广告中所宣传的产品的类别id，采用类似于user_id的方式生成。\n",
    "* advertiser_id: 广告主的id，采用类似于user_id的方式生成。\n",
    "* industry:广告主所属行业的id，采用类似于user_id的方式生成\n",
    "## 提交方式\n",
    "参赛者提交的结果为一个带标题行的submission.csv文件，编码采用无BOM的UTF-8，具体格式如下（字段顺序以下面的描述为准，各字段用逗号分隔，中间无空格）：\n",
    "* user_id\n",
    "* predicted_age: 预测的用户年龄分段，取值范围[1,10]。\n",
    "* predicted_gender: 预测的用户性别，取值范围[1,2]。\n",
    "\n",
    "测试数据集中每个用户均应在submission.csv文件中对应有且仅有一行预测结果。各用户的预测结果在该文件中的出现顺序与评估结果无关。\n",
    "\n",
    "## 评估方式\n",
    "大赛会根据参赛者提交的结果计算预测的准确率（accuracy）。\n",
    "\n",
    "年龄预测和性别预测将分别评估准确率，两者之和将被用作参赛者的打分。测试数据集会和训练数据集一起提供给参赛者。大赛会将测试数据集中出现的用户划分为两组，具体的划分方式对参赛者不可见。其中一组用户将被用于初赛和复赛阶段除最后一天之外的排行榜打分计算，另一组则用于初赛和复赛阶段最后一天的排行榜打分计算，以及最后的胜出队伍选择。"
   ]
  },
  {
   "cell_type": "markdown",
   "metadata": {},
   "source": [
    "# 智能钛机器学习平台\n",
    "https://cloud.tencent.com/document/product/851\n",
    "\n",
    "https://cloud.tencent.com/document/product/851/39086\n",
    "\n",
    "智能钛机器学习平台是为 AI 工程师打造的一站式机器学习服务平台，为用户提供从数据预处理、模型构建、模型训练、模型评估到模型服务的全流程开发及部署支持。智能钛机器学习平台内置丰富的算法组件，支持多种算法框架，满足多种 AI 应用场景的需求。自动化建模（AutoML）的支持与拖拽式任务流设计让 AI 初学者也能轻松上手。\n",
    "\n",
    "## 创建 COS 存储桶"
   ]
  },
  {
   "cell_type": "markdown",
   "metadata": {},
   "source": [
    "# 解题思路\n",
    "## mine\n",
    "很直观的是一个20分类问题\n",
    "## 鱼佬\n",
    "https://zhuanlan.zhihu.com/p/130913652"
   ]
  },
  {
   "cell_type": "code",
   "execution_count": null,
   "metadata": {},
   "outputs": [],
   "source": []
  }
 ],
 "metadata": {
  "kernelspec": {
   "display_name": "Python 3",
   "language": "python",
   "name": "python3"
  },
  "language_info": {
   "codemirror_mode": {
    "name": "ipython",
    "version": 3
   },
   "file_extension": ".py",
   "mimetype": "text/x-python",
   "name": "python",
   "nbconvert_exporter": "python",
   "pygments_lexer": "ipython3",
   "version": "3.7.3"
  },
  "toc": {
   "base_numbering": 1,
   "nav_menu": {},
   "number_sections": true,
   "sideBar": true,
   "skip_h1_title": false,
   "title_cell": "Table of Contents",
   "title_sidebar": "Contents",
   "toc_cell": false,
   "toc_position": {},
   "toc_section_display": true,
   "toc_window_display": true
  }
 },
 "nbformat": 4,
 "nbformat_minor": 2
}
